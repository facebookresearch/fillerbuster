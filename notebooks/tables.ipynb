{
  "cells": [
    {
      "cell_type": "markdown",
      "id": "19eb9365-9da9-4662-9efa-11b53aacb822",
      "metadata": {},
      "source": [
        "# Tables\n",
        "\n",
        "This script is to generate tables for our paper."
      ]
    },
    {
      "cell_type": "code",
      "execution_count": 1,
      "id": "d2246952-dd17-4b83-9bb7-cdf7a95dad98",
      "metadata": {},
      "outputs": [],
      "source": [
        "%load_ext autoreload\n",
        "%autoreload 2\n",
        "\n",
        "import json\n",
        "from pathlib import Path"
      ]
    },
    {
      "cell_type": "code",
      "execution_count": 2,
      "id": "0cde966b-63a3-4e5a-b2ff-90f32d632746",
      "metadata": {},
      "outputs": [],
      "source": [
        "def get_metrics(method, resolution=8, image=True):\n",
        "    \"\"\"\n",
        "    Get the metrics. If image==True, then use every even index for metrics to evaluate image generation. If image==False, then use every odd index.\n",
        "    \"\"\"\n",
        "    filename = str(sorted(list(Path(\"/home/ethanjohnweber/monitor/eval---eval/\" + method + \"/transformer/\").iterdir()))[-1]) + \"/metrics/256.json\"\n",
        "    with open(filename, \"r\") as f:\n",
        "        metrics_dict = json.load(f)\n",
        "    indices = sorted([int(x) for x in metrics_dict.keys()])\n",
        "    indices = indices[::2] if image else indices[1::2]\n",
        "\n",
        "    psnrs = 0.0\n",
        "    vals = 0.0\n",
        "    ssims = 0.0\n",
        "    lpipss = 0.0\n",
        "    for i in indices:\n",
        "        md = metrics_dict[str(i)][str(resolution)]\n",
        "        psnr = md[\"image-psnr\"] if image else (md[\"origins-psnr\"] + md[\"ray-psnr\"])\n",
        "        psnr = md[\"image-psnr\"] if image else (md[\"origins-psnr\"] + md[\"ray-psnr\"])\n",
        "        ssim = md[\"image-ssim\"] if image else (md[\"origins-ssim\"] + md[\"ray-ssim\"])\n",
        "        lpips = md[\"image-lpips\"] if image else (md[\"origins-lpips\"] + md[\"ray-lpips\"])\n",
        "\n",
        "        val = 0.0\n",
        "        num = 0\n",
        "        for key, value in md[\"validation_losses\"][\"con-im\" if image else \"con-ra\"].items():\n",
        "            if key != \"tensor(1000., device='cuda:0')\" and key != \"1000\":\n",
        "                val += value\n",
        "                num += 1\n",
        "        val /= num\n",
        "\n",
        "        psnrs += psnr\n",
        "        ssims += ssim\n",
        "        lpipss += lpips\n",
        "        vals += val\n",
        "\n",
        "    metrics = [psnrs / len(indices), ssims / len(indices), lpipss / len(indices), vals / len(indices)]\n",
        "    return metrics"
      ]
    },
    {
      "cell_type": "code",
      "execution_count": 3,
      "id": "100ae563-1bb4-4bca-9576-4b2778bd590d",
      "metadata": {},
      "outputs": [],
      "source": [
        "METHODS = [\n",
        "    (\"no-index-embeddings\", \"no-index-emb\"),\n",
        "    (\"fixed-index-embeddings\", \"fixed-index-emb\"),\n",
        "    (\"no-pose-pred\", \"no-pose-pred\"),\n",
        "    (\"random-pose-aug\", \"random-pose-aug\"),\n",
        "    (\"train\", \"\\\\method{} (100K iters)\"),\n",
        "    (\"final\", \"\\\\method{} (1M iters)\"),\n",
        "]\n",
        "# 8-view, 16-view, 32-view\n",
        "# psnr ssim lpips val | psnr ssim lpips val | psnr ssim lpips val\n",
        "SIGFIGS = [2, 3, 3, 4, 2, 3, 3, 4, 2, 3, 3, 4]\n",
        "def print_datasets():\n",
        "    # create the experiment lines\n",
        "    EXPERIMENT_LINES = [\"\\n\"]\n",
        "    for method, method_name in METHODS:\n",
        "        metrics_8 = get_metrics(method, resolution=8)\n",
        "        metrics_8 = [str(f\"{metric:.{sigfigs}f}\") for metric, sigfigs in zip(metrics_8, SIGFIGS)]\n",
        "\n",
        "        metrics_16 = get_metrics(method, resolution=16)\n",
        "        metrics_16 = [str(f\"{metric:.{sigfigs}f}\") for metric, sigfigs in zip(metrics_16, SIGFIGS)]\n",
        "\n",
        "        metrics_32 = get_metrics(method, resolution=32)\n",
        "        metrics_32 = [str(f\"{metric:.{sigfigs}f}\") for metric, sigfigs in zip(metrics_32, SIGFIGS)]\n",
        "\n",
        "        line_string = f\"{method_name} & \"\n",
        "        for i in range(len(metrics_8)):\n",
        "            line_string += f\"{metrics_8[i]}\"\n",
        "            line_string += ' & '\n",
        "        for i in range(len(metrics_16)):\n",
        "            line_string += f\"{metrics_16[i]}\"\n",
        "            line_string += ' & '\n",
        "        for i in range(len(metrics_32)):\n",
        "            line_string += f\"{metrics_32[i]}\"\n",
        "            if i != len(metrics_32) - 1:\n",
        "                line_string += ' & '\n",
        "        line_string += \"\\\\\\\\ \\n\"\n",
        "\n",
        "        EXPERIMENT_LINES.append(line_string)\n",
        "\n",
        "    print(\" \".join(EXPERIMENT_LINES))"
      ]
    },
    {
      "cell_type": "code",
      "execution_count": 5,
      "id": "16b674bb-50d5-46f1-be31-d52639d226c0",
      "metadata": {},
      "outputs": [
        {
          "name": "stdout",
          "output_type": "stream",
          "text": [
            "\n",
            " no-index-emb & 11.10 & 0.431 & 0.456 & 0.2394 & 14.06 & 0.450 & 0.400 & 0.2417 & 12.38 & 0.467 & 0.422 & 0.2438\\\\ \n",
            " fixed-index-emb & 10.46 & 0.353 & 0.520 & 0.2517 & 12.14 & 0.390 & 0.491 & 0.2546 & 12.52 & 0.416 & 0.448 & 0.2556\\\\ \n",
            " no-pose-pred & 11.63 & 0.413 & 0.426 & 0.2386 & 14.73 & 0.461 & 0.384 & 0.2411 & 13.39 & 0.476 & 0.389 & 0.2431\\\\ \n",
            " random-pose-aug & 11.82 & 0.431 & 0.415 & 0.2384 & 16.18 & 0.487 & 0.333 & 0.2409 & 14.27 & 0.483 & 0.367 & 0.2430\\\\ \n",
            " \\method{} (100K iters) & 11.97 & 0.435 & 0.415 & 0.2383 & 15.81 & 0.481 & 0.329 & 0.2407 & 14.21 & 0.486 & 0.366 & 0.2426\\\\ \n",
            " \\method{} (1M iters) & 12.77 & 0.442 & 0.381 & 0.2365 & 17.20 & 0.485 & 0.281 & 0.2388 & 14.13 & 0.498 & 0.352 & 0.2396\\\\ \n",
            "\n"
          ]
        }
      ],
      "source": [
        "print_datasets()"
      ]
    },
    {
      "cell_type": "code",
      "execution_count": null,
      "id": "621cfefa-5d36-48fe-948b-2335b5f8b4e4",
      "metadata": {},
      "outputs": [],
      "source": []
    },
    {
      "cell_type": "code",
      "execution_count": null,
      "id": "99e3b55b-bcce-46d5-bb2d-5d05f2769232",
      "metadata": {},
      "outputs": [],
      "source": []
    }
  ],
  "metadata": {
    "fileHeader": "",
    "fileUid": "afc969d1-250e-4574-8e52-6a73813d6b4f",
    "isAdHoc": false,
    "kernelspec": {
      "display_name": "Python 3 (ipykernel)",
      "language": "python",
      "name": "python3"
    },
    "language_info": {
      "codemirror_mode": {
        "name": "ipython",
        "version": 3
      },
      "file_extension": ".py",
      "mimetype": "text/x-python",
      "name": "python",
      "nbconvert_exporter": "python",
      "pygments_lexer": "ipython3",
      "version": "3.10.13"
    }
  }
}
