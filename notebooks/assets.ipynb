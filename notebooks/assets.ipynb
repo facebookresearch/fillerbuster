{
 "cells": [
  {
   "cell_type": "markdown",
   "id": "49e09ffc",
   "metadata": {},
   "source": [
    "# Assets\n",
    "\n",
    "Helper code to generate video assets."
   ]
  },
  {
   "cell_type": "code",
   "execution_count": 1,
   "id": "b3f703af-365c-474e-88be-8c18dcc27e7c",
   "metadata": {},
   "outputs": [],
   "source": [
    "import json\n",
    "from pathlib import Path\n",
    "\n",
    "import mediapy\n",
    "import numpy as np\n",
    "\n",
    "methods_dict = {}\n",
    "methods_dict[\"nerfbusters\"] = [\"gsplat\", \"nerfiller\", \"cat3d\", \"fillerbuster\"]\n",
    "methods_dict[\"nerfiller\"] = [\n",
    "    \"mask\",\n",
    "    \"gsplat\",\n",
    "    \"nerfiller-no-new-views-no-normals\",\n",
    "    \"nerfiller-no-new-views\",\n",
    "    \"fillerbuster-no-new-views-no-normals\",\n",
    "    \"fillerbuster-no-new-views\",\n",
    "]\n",
    "\n",
    "datasets_dict = {\n",
    "    \"nerfbusters\": [\n",
    "        'aloe',\n",
    "        'art',\n",
    "        'car',\n",
    "        'century',\n",
    "        'flowers',\n",
    "        'garbage',\n",
    "        'picnic',\n",
    "        \"pipe\",\n",
    "        \"plant\",\n",
    "        \"roses\",\n",
    "        \"table\",\n",
    "    ],\n",
    "    \"nerfiller\": [\n",
    "        'bear',\n",
    "        'billiards',\n",
    "        'boot',\n",
    "        'cat',\n",
    "        'billiards',\n",
    "        'drawing',\n",
    "        'dumptruck',\n",
    "        'norway',\n",
    "        'office',\n",
    "        'turtle'\n",
    "    ],\n",
    "}\n",
    "\n",
    "dataset = \"nerfiller\"\n",
    "datasets = datasets_dict[dataset]\n",
    "methods = methods_dict[dataset]\n",
    "folder = Path(f\"../outputs/{dataset}-renders\")\n",
    "output = Path(f\"../outputs/assets/images/{dataset}\")\n",
    "video_output = Path(f\"../outputs/assets/videos/{dataset}\")\n",
    "save_images = True\n",
    "save_video = True\n",
    "seconds = 10\n",
    "every_n_frames = 20"
   ]
  },
  {
   "cell_type": "code",
   "execution_count": null,
   "id": "48cf7255-e496-4e8f-8da8-c00e819918d8",
   "metadata": {},
   "outputs": [],
   "source": [
    "all_video = []\n",
    "for dataset in datasets:\n",
    "    print(dataset)\n",
    "    videos = []\n",
    "    for method in methods:\n",
    "        filename = Path(sorted(list((folder / dataset / method).iterdir()))[-1])\n",
    "        cameras_filename = Path(str(filename).replace(\".mp4\", \".json\"))\n",
    "        with open(cameras_filename) as f:\n",
    "            cameras = json.load(f)\n",
    "        video = mediapy.read_video(filename)\n",
    "        if save_images:\n",
    "            for i in range(0, len(video), every_n_frames):\n",
    "                filename = output / f\"{dataset}/{method}/image-{i:06d}.jpg\"\n",
    "                # print(filename)\n",
    "                filename.parent.mkdir(parents=True, exist_ok=True)\n",
    "                mediapy.write_image(filename, video[i])\n",
    "        if save_video:\n",
    "            filename = video_output / f\"{dataset}-{method}.mp4\"\n",
    "            print(filename)\n",
    "            filename.parent.mkdir(parents=True, exist_ok=True)\n",
    "            mediapy.write_video(filename, video, fps=len(video) / seconds)\n",
    "        videos.append(video)\n",
    "    # mediapy.show_videos(videos, fps=len(cat_video)/seconds)\n",
    "    cat_video = np.concatenate(videos, axis=2)\n",
    "    all_video.append(cat_video)\n",
    "cat_all_video = np.concatenate(all_video, axis=1)"
   ]
  },
  {
   "cell_type": "code",
   "execution_count": null,
   "id": "72bf0c30-08ff-4779-a5c8-fa8b674904dc",
   "metadata": {},
   "outputs": [],
   "source": [
    "mediapy.show_video(cat_all_video, fps=len(cat_video)/seconds)"
   ]
  }
 ],
 "metadata": {
  "kernelspec": {
   "display_name": "fillerbuster",
   "language": "python",
   "name": "python3"
  },
  "language_info": {
   "codemirror_mode": {
    "name": "ipython",
    "version": 3
   },
   "file_extension": ".py",
   "mimetype": "text/x-python",
   "name": "python",
   "nbconvert_exporter": "python",
   "pygments_lexer": "ipython3",
   "version": "3.10.16"
  }
 },
 "nbformat": 4,
 "nbformat_minor": 5
}
