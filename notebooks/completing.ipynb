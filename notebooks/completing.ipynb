{
 "cells": [
  {
   "cell_type": "code",
   "execution_count": 7,
   "id": "b3f703af-365c-474e-88be-8c18dcc27e7c",
   "metadata": {},
   "outputs": [],
   "source": [
    "import json\n",
    "from pathlib import Path\n",
    "\n",
    "import mediapy\n",
    "import numpy as np\n",
    "\n",
    "methods_dict = {}\n",
    "methods_dict[\"nerfbusters\"] = [\"gsplat\", \"nerfiller\", \"cat3d\", \"mvinpaint\"]\n",
    "methods_dict[\"nerfiller\"] = [\n",
    "    \"mask\",\n",
    "    \"gsplat\",\n",
    "    \"nerfiller-no-new-views-no-normals\",\n",
    "    \"nerfiller-no-new-views\",\n",
    "    \"mvinpaint-no-new-views-no-normals\",\n",
    "    \"mvinpaint-no-new-views\",\n",
    "]\n",
    "\n",
    "datasets_dict = {\n",
    "    \"nerfbusters\": [\n",
    "        # 'aloe',\n",
    "        # 'art',\n",
    "        # 'car',\n",
    "        # 'century',\n",
    "        # 'flowers',\n",
    "        # 'garbage',\n",
    "        # 'picnic',\n",
    "        # 'pikachu',\n",
    "        \"pipe\",\n",
    "        \"plant\",\n",
    "        \"roses\",\n",
    "        \"table\",\n",
    "    ],\n",
    "    \"nerfiller\": [\n",
    "        # 'bear',\n",
    "        # 'billiards',\n",
    "        # 'boot',\n",
    "        # 'cat',\n",
    "        # 'billiards',\n",
    "        # 'drawing',\n",
    "        # 'dumptruck',\n",
    "        # 'norway',\n",
    "        # 'office',\n",
    "        # 'turtle'\n",
    "    ],\n",
    "}\n",
    "\n",
    "dataset = \"nerfbusters\"\n",
    "datasets = datasets_dict[dataset]\n",
    "methods = methods_dict[dataset]\n",
    "folder = Path(f\"/mnt/home/ethanjohnweber/data/{dataset}-renders\")\n",
    "output = Path(f\"/mnt/home/ethanjohnweber/data/assets/images/{dataset}\")\n",
    "video_output = Path(f\"/mnt/home/ethanjohnweber/data/assets/videos/{dataset}\")\n",
    "save_images = True\n",
    "save_video = True\n",
    "seconds = 10"
   ]
  },
  {
   "cell_type": "code",
   "execution_count": 6,
   "id": "48cf7255-e496-4e8f-8da8-c00e819918d8",
   "metadata": {},
   "outputs": [
    {
     "name": "stdout",
     "output_type": "stream",
     "text": [
      "pipe\n",
      "/mnt/home/ethanjohnweber/data/assets/videos/nerfbusters/pipe-gsplat.mp4\n",
      "/mnt/home/ethanjohnweber/data/assets/videos/nerfbusters/pipe-nerfiller.mp4\n",
      "/mnt/home/ethanjohnweber/data/assets/videos/nerfbusters/pipe-cat3d.mp4\n",
      "/mnt/home/ethanjohnweber/data/assets/videos/nerfbusters/pipe-mvinpaint.mp4\n",
      "plant\n",
      "/mnt/home/ethanjohnweber/data/assets/videos/nerfbusters/plant-gsplat.mp4\n",
      "/mnt/home/ethanjohnweber/data/assets/videos/nerfbusters/plant-nerfiller.mp4\n",
      "/mnt/home/ethanjohnweber/data/assets/videos/nerfbusters/plant-cat3d.mp4\n",
      "/mnt/home/ethanjohnweber/data/assets/videos/nerfbusters/plant-mvinpaint.mp4\n",
      "roses\n",
      "/mnt/home/ethanjohnweber/data/assets/videos/nerfbusters/roses-gsplat.mp4\n",
      "/mnt/home/ethanjohnweber/data/assets/videos/nerfbusters/roses-nerfiller.mp4\n",
      "/mnt/home/ethanjohnweber/data/assets/videos/nerfbusters/roses-cat3d.mp4\n",
      "/mnt/home/ethanjohnweber/data/assets/videos/nerfbusters/roses-mvinpaint.mp4\n",
      "table\n",
      "/mnt/home/ethanjohnweber/data/assets/videos/nerfbusters/table-gsplat.mp4\n",
      "/mnt/home/ethanjohnweber/data/assets/videos/nerfbusters/table-nerfiller.mp4\n",
      "/mnt/home/ethanjohnweber/data/assets/videos/nerfbusters/table-cat3d.mp4\n",
      "/mnt/home/ethanjohnweber/data/assets/videos/nerfbusters/table-mvinpaint.mp4\n"
     ]
    }
   ],
   "source": [
    "all_video = []\n",
    "for dataset in datasets:\n",
    "    print(dataset)\n",
    "    videos = []\n",
    "    for method in methods:\n",
    "        filename = Path(sorted(list((folder / dataset / method).iterdir()))[-1])\n",
    "        cameras_filename = Path(str(filename).replace(\".mp4\", \".json\"))\n",
    "        with open(cameras_filename) as f:\n",
    "            cameras = json.load(f)\n",
    "        video = mediapy.read_video(filename)\n",
    "        if save_images:\n",
    "            for i in range(0, len(video), 20):\n",
    "                filename = output / f\"{dataset}/{method}/image-{i:06d}.jpg\"\n",
    "                # print(filename)\n",
    "                filename.parent.mkdir(parents=True, exist_ok=True)\n",
    "                mediapy.write_image(filename, video[i])\n",
    "        if save_video:\n",
    "            filename = video_output / f\"{dataset}-{method}.mp4\"\n",
    "            print(filename)\n",
    "            filename.parent.mkdir(parents=True, exist_ok=True)\n",
    "            mediapy.write_video(filename, video, fps=len(video) / seconds)\n",
    "        videos.append(video)\n",
    "    # mediapy.show_videos(videos, fps=len(cat_video)/seconds)\n",
    "    cat_video = np.concatenate(videos, axis=2)\n",
    "    all_video.append(cat_video)\n",
    "cat_all_video = np.concatenate(all_video, axis=1)"
   ]
  },
  {
   "cell_type": "code",
   "execution_count": 13,
   "id": "72bf0c30-08ff-4779-a5c8-fa8b674904dc",
   "metadata": {},
   "outputs": [],
   "source": [
    "# mediapy.show_video(cat_all_video, fps=len(cat_video)/seconds)"
   ]
  },
  {
   "cell_type": "code",
   "execution_count": null,
   "id": "11ed6fa6-8e84-4b65-83b0-5c61c8b9bc4b",
   "metadata": {},
   "outputs": [],
   "source": []
  }
 ],
 "metadata": {
  "kernelspec": {
   "display_name": "Python 3 (ipykernel)",
   "language": "python",
   "name": "python3"
  },
  "language_info": {
   "codemirror_mode": {
    "name": "ipython",
    "version": 3
   },
   "file_extension": ".py",
   "mimetype": "text/x-python",
   "name": "python",
   "nbconvert_exporter": "python",
   "pygments_lexer": "ipython3",
   "version": "3.10.13"
  }
 },
 "nbformat": 4,
 "nbformat_minor": 5
}
