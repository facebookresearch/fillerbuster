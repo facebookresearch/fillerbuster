{
 "cells": [
  {
   "cell_type": "markdown",
   "id": "8a4bed2a-a472-45ed-9035-ca200046225d",
   "metadata": {},
   "source": [
    "# NeRFiller metrics"
   ]
  },
  {
   "cell_type": "code",
   "execution_count": 1,
   "id": "f3477ec4-3500-48da-8c30-026886608d8d",
   "metadata": {},
   "outputs": [],
   "source": [
    "import glob\n",
    "import os\n",
    "from pathlib import Path\n",
    "\n",
    "import mediapy\n",
    "import numpy as np\n",
    "import torch\n",
    "\n",
    "methods = [\n",
    "    \"mvinpaint-no-new-views\",\n",
    "    \"nerfiller-no-new-views\",\n",
    "    \"mvinpaint-no-new-views-no-normals\",\n",
    "    \"nerfiller-no-new-views-no-normals\",\n",
    "]\n",
    "datasets = [\"bear\", \"billiards\", \"boot\", \"cat\", \"drawing\", \"dumptruck\", \"norway\", \"office\", \"turtle\"]\n",
    "device = \"cuda:0\""
   ]
  },
  {
   "cell_type": "code",
   "execution_count": 2,
   "id": "f99c4a0f-043d-4a01-9555-1e0b7227f3db",
   "metadata": {},
   "outputs": [
    {
     "name": "stderr",
     "output_type": "stream",
     "text": [
      "/mnt/home/ethanjohnweber/rsc/environments/mvinpaint/lib/python3.10/site-packages/torchmetrics/functional/image/lpips.py:325: FutureWarning: You are using `torch.load` with `weights_only=False` (the current default value), which uses the default pickle module implicitly. It is possible to construct malicious pickle data which will execute arbitrary code during unpickling (See https://github.com/pytorch/pytorch/blob/main/SECURITY.md#untrusted-models for more details). In a future release, the default value for `weights_only` will be flipped to `True`. This limits the functions that could be executed during unpickling. Arbitrary objects will no longer be allowed to be loaded via this mode unless they are explicitly allowlisted by the user via `torch.serialization.add_safe_globals`. We recommend you start setting `weights_only=True` for any use case where you don't have full control of the loaded file. Please open an issue on GitHub for any issues related to this experimental feature.\n",
      "  self.load_state_dict(torch.load(model_path, map_location=\"cpu\"), strict=False)\n"
     ]
    }
   ],
   "source": [
    "from torchmetrics.image import PeakSignalNoiseRatio\n",
    "\n",
    "psnr = PeakSignalNoiseRatio(data_range=1.0)\n",
    "from pytorch_msssim import SSIM\n",
    "\n",
    "ssim = SSIM(data_range=1.0, size_average=True, channel=3)\n",
    "from torchmetrics.image.lpip import LearnedPerceptualImagePatchSimilarity\n",
    "\n",
    "lpips = LearnedPerceptualImagePatchSimilarity(normalize=True)"
   ]
  },
  {
   "cell_type": "code",
   "execution_count": 3,
   "id": "cf11387f-30e1-4e49-bafe-47eb23fb3057",
   "metadata": {},
   "outputs": [],
   "source": [
    "psnr = psnr.to(device)\n",
    "ssim = ssim.to(device)\n",
    "lpips = lpips.to(device)"
   ]
  },
  {
   "cell_type": "code",
   "execution_count": 4,
   "id": "1a41a7b7-1d64-4aff-b0e9-9392c989a781",
   "metadata": {},
   "outputs": [],
   "source": [
    "from collections import defaultdict\n",
    "\n",
    "metrics = defaultdict(dict)"
   ]
  },
  {
   "cell_type": "code",
   "execution_count": 9,
   "id": "ca806ef5-2706-4d88-b4a4-6941a6f86404",
   "metadata": {},
   "outputs": [
    {
     "name": "stdout",
     "output_type": "stream",
     "text": [
      "bear\n",
      "mvinpaint-no-new-views\n",
      "nerfiller-no-new-views\n",
      "mvinpaint-no-new-views-no-normals\n",
      "nerfiller-no-new-views-no-normals\n",
      "billiards\n",
      "mvinpaint-no-new-views\n",
      "nerfiller-no-new-views\n",
      "mvinpaint-no-new-views-no-normals\n",
      "nerfiller-no-new-views-no-normals\n",
      "boot\n",
      "mvinpaint-no-new-views\n",
      "nerfiller-no-new-views\n",
      "mvinpaint-no-new-views-no-normals\n",
      "nerfiller-no-new-views-no-normals\n",
      "cat\n",
      "mvinpaint-no-new-views\n",
      "nerfiller-no-new-views\n",
      "mvinpaint-no-new-views-no-normals\n",
      "nerfiller-no-new-views-no-normals\n",
      "drawing\n",
      "mvinpaint-no-new-views\n",
      "nerfiller-no-new-views\n",
      "mvinpaint-no-new-views-no-normals\n",
      "nerfiller-no-new-views-no-normals\n",
      "dumptruck\n",
      "mvinpaint-no-new-views\n",
      "nerfiller-no-new-views\n",
      "mvinpaint-no-new-views-no-normals\n",
      "nerfiller-no-new-views-no-normals\n",
      "norway\n",
      "mvinpaint-no-new-views\n",
      "nerfiller-no-new-views\n",
      "mvinpaint-no-new-views-no-normals\n",
      "nerfiller-no-new-views-no-normals\n",
      "office\n",
      "mvinpaint-no-new-views\n",
      "nerfiller-no-new-views\n",
      "mvinpaint-no-new-views-no-normals\n",
      "nerfiller-no-new-views-no-normals\n",
      "turtle\n",
      "mvinpaint-no-new-views\n",
      "nerfiller-no-new-views\n",
      "mvinpaint-no-new-views-no-normals\n",
      "nerfiller-no-new-views-no-normals\n"
     ]
    }
   ],
   "source": [
    "for dataset in datasets:\n",
    "    print(dataset)\n",
    "    for method in methods:\n",
    "        print(method)\n",
    "\n",
    "        psnrs = []\n",
    "        ssims = []\n",
    "        lpipss = []\n",
    "\n",
    "        filename = (\n",
    "            Path(\n",
    "                sorted(\n",
    "                    list(\n",
    "                        Path(\n",
    "                            f\"/mnt/home/ethanjohnweber/nerfstudio-outputs/{method}/{dataset}/mvinpaint-splatfacto/\"\n",
    "                        ).iterdir()\n",
    "                    )\n",
    "                )[-1]\n",
    "            )\n",
    "            / \"individual-inpaints\"\n",
    "        )\n",
    "        image_filenames = sorted(glob.glob(str(filename / \"*\")))\n",
    "        render_filenames = sorted(\n",
    "            glob.glob(\n",
    "                os.path.join(\n",
    "                    sorted(\n",
    "                        list(\n",
    "                            Path(f\"/mnt/home/ethanjohnweber/data/nerfiller-renders/{dataset}/{method}\").glob(\n",
    "                                \"*dataset-renders\"\n",
    "                            )\n",
    "                        )\n",
    "                    )[-1],\n",
    "                    \"train/rgb/*\",\n",
    "                )\n",
    "            )\n",
    "        )\n",
    "        conditoning_indices = torch.linspace(0, len(render_filenames) - 1, 32).long()\n",
    "        render_filenames = [render_filenames[i] for i in conditoning_indices]\n",
    "        for idx, (im1f, im2f) in enumerate(zip(image_filenames, render_filenames)):\n",
    "            if idx != 0:\n",
    "                continue\n",
    "            # print(im1f)\n",
    "            # print(im2f)\n",
    "            img1 = mediapy.read_image(im1f)\n",
    "            img1 = mediapy.resize_image(img1, (512, 512))\n",
    "            img2 = mediapy.read_image(im2f)\n",
    "            img2 = mediapy.resize_image(img2, (512, 512))\n",
    "            # mediapy.show_images([img1, img2])\n",
    "            # break\n",
    "            img1 = (torch.from_numpy(img1) / 255.0)[None].permute(0, 3, 1, 2).to(device)\n",
    "            img2 = (torch.from_numpy(img2) / 255.0)[None].permute(0, 3, 1, 2).to(device)\n",
    "\n",
    "            psnrs.append(psnr(img1, img2).item())\n",
    "            ssims.append(ssim(img1, img2).item())\n",
    "            lpipss.append(lpips(img1, img2).item())\n",
    "        # break\n",
    "        metrics[dataset][method] = {\"psnr\": np.mean(psnrs), \"ssim\": np.mean(ssims), \"lpips\": np.mean(lpipss)}"
   ]
  },
  {
   "cell_type": "code",
   "execution_count": 10,
   "id": "fce3bde9-c13a-49f5-b767-49c32102b849",
   "metadata": {},
   "outputs": [
    {
     "name": "stdout",
     "output_type": "stream",
     "text": [
      "mvinpaint-no-new-views 29.656557506985134 0.9073409570588006 0.10202627463473214\n",
      "nerfiller-no-new-views 25.99903678894043 0.8663748635186089 0.20223851419157451\n",
      "mvinpaint-no-new-views-no-normals 31.161026424831814 0.9369973672760857 0.06258510260118379\n",
      "nerfiller-no-new-views-no-normals 26.391361448499893 0.8793721596399943 0.19031956626309288\n"
     ]
    }
   ],
   "source": [
    "for method in methods:\n",
    "    ps = 0\n",
    "    ss = 0\n",
    "    lp = 0\n",
    "    for dataset in datasets:\n",
    "        ps += metrics[dataset][method][\"psnr\"]\n",
    "        ss += metrics[dataset][method][\"ssim\"]\n",
    "        lp += metrics[dataset][method][\"lpips\"]\n",
    "    ps /= len(datasets)\n",
    "    ss /= len(datasets)\n",
    "    lp /= len(datasets)\n",
    "    print(method, ps, ss, lp)"
   ]
  },
  {
   "cell_type": "code",
   "execution_count": null,
   "id": "ca7efb83-7207-4a70-bb7c-2dcc05ac382d",
   "metadata": {},
   "outputs": [],
   "source": []
  },
  {
   "cell_type": "code",
   "execution_count": null,
   "id": "95d08f39-24be-4223-a994-c7fed25bdd43",
   "metadata": {},
   "outputs": [],
   "source": []
  }
 ],
 "metadata": {
  "kernelspec": {
   "display_name": "Python 3 (ipykernel)",
   "language": "python",
   "name": "python3"
  },
  "language_info": {
   "codemirror_mode": {
    "name": "ipython",
    "version": 3
   },
   "file_extension": ".py",
   "mimetype": "text/x-python",
   "name": "python",
   "nbconvert_exporter": "python",
   "pygments_lexer": "ipython3",
   "version": "3.10.13"
  }
 },
 "nbformat": 4,
 "nbformat_minor": 5
}
